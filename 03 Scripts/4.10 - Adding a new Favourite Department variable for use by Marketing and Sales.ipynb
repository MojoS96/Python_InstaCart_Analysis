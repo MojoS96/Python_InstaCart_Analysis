{
 "cells": [
  {
   "cell_type": "code",
   "execution_count": 1,
   "id": "b310f2bb",
   "metadata": {},
   "outputs": [],
   "source": [
    "#Re-importing libraries and data sets\n",
    "import pandas as pd\n",
    "import numpy as np\n",
    "import os\n",
    "import matplotlib.pyplot as plt\n",
    "import seaborn as sns\n",
    "import scipy"
   ]
  },
  {
   "cell_type": "code",
   "execution_count": 2,
   "id": "96442c51",
   "metadata": {},
   "outputs": [],
   "source": [
    "path = r'C:\\Users\\mojos\\OneDrive\\Career Foundry Course\\Task4 - InstaCart Project'"
   ]
  },
  {
   "cell_type": "code",
   "execution_count": 4,
   "id": "a67effb5",
   "metadata": {},
   "outputs": [],
   "source": [
    "ha_ords_prods_custs = pd.read_pickle(os.path.join(path,'02 Data','Prepared Data','ha_ords_prods_custs.pkl'))"
   ]
  },
  {
   "cell_type": "markdown",
   "id": "c570aa23",
   "metadata": {},
   "source": [
    "#### creating a mode column for marketting to use for targetted campaigns to each user_id."
   ]
  },
  {
   "cell_type": "code",
   "execution_count": 5,
   "id": "c9149eb0",
   "metadata": {},
   "outputs": [],
   "source": [
    "#new data frame creating using a method for calculating the mode\n",
    "fav_dep = ha_ords_prods_custs.groupby('user_id')['department'].apply(pd.Series.mode).to_frame().reset_index()"
   ]
  },
  {
   "cell_type": "code",
   "execution_count": 6,
   "id": "70242b1d",
   "metadata": {},
   "outputs": [
    {
     "data": {
      "text/html": [
       "<div>\n",
       "<style scoped>\n",
       "    .dataframe tbody tr th:only-of-type {\n",
       "        vertical-align: middle;\n",
       "    }\n",
       "\n",
       "    .dataframe tbody tr th {\n",
       "        vertical-align: top;\n",
       "    }\n",
       "\n",
       "    .dataframe thead th {\n",
       "        text-align: right;\n",
       "    }\n",
       "</style>\n",
       "<table border=\"1\" class=\"dataframe\">\n",
       "  <thead>\n",
       "    <tr style=\"text-align: right;\">\n",
       "      <th></th>\n",
       "      <th>user_id</th>\n",
       "      <th>level_1</th>\n",
       "      <th>department</th>\n",
       "    </tr>\n",
       "  </thead>\n",
       "  <tbody>\n",
       "    <tr>\n",
       "      <th>0</th>\n",
       "      <td>1</td>\n",
       "      <td>0</td>\n",
       "      <td>snacks</td>\n",
       "    </tr>\n",
       "    <tr>\n",
       "      <th>1</th>\n",
       "      <td>2</td>\n",
       "      <td>0</td>\n",
       "      <td>dairy eggs</td>\n",
       "    </tr>\n",
       "    <tr>\n",
       "      <th>2</th>\n",
       "      <td>3</td>\n",
       "      <td>0</td>\n",
       "      <td>produce</td>\n",
       "    </tr>\n",
       "    <tr>\n",
       "      <th>3</th>\n",
       "      <td>4</td>\n",
       "      <td>0</td>\n",
       "      <td>beverages</td>\n",
       "    </tr>\n",
       "    <tr>\n",
       "      <th>4</th>\n",
       "      <td>4</td>\n",
       "      <td>1</td>\n",
       "      <td>frozen</td>\n",
       "    </tr>\n",
       "    <tr>\n",
       "      <th>...</th>\n",
       "      <td>...</td>\n",
       "      <td>...</td>\n",
       "      <td>...</td>\n",
       "    </tr>\n",
       "    <tr>\n",
       "      <th>168643</th>\n",
       "      <td>206203</td>\n",
       "      <td>0</td>\n",
       "      <td>produce</td>\n",
       "    </tr>\n",
       "    <tr>\n",
       "      <th>168644</th>\n",
       "      <td>206206</td>\n",
       "      <td>0</td>\n",
       "      <td>frozen</td>\n",
       "    </tr>\n",
       "    <tr>\n",
       "      <th>168645</th>\n",
       "      <td>206207</td>\n",
       "      <td>0</td>\n",
       "      <td>dairy eggs</td>\n",
       "    </tr>\n",
       "    <tr>\n",
       "      <th>168646</th>\n",
       "      <td>206208</td>\n",
       "      <td>0</td>\n",
       "      <td>produce</td>\n",
       "    </tr>\n",
       "    <tr>\n",
       "      <th>168647</th>\n",
       "      <td>206209</td>\n",
       "      <td>0</td>\n",
       "      <td>dairy eggs</td>\n",
       "    </tr>\n",
       "  </tbody>\n",
       "</table>\n",
       "<p>168648 rows × 3 columns</p>\n",
       "</div>"
      ],
      "text/plain": [
       "        user_id  level_1  department\n",
       "0             1        0      snacks\n",
       "1             2        0  dairy eggs\n",
       "2             3        0     produce\n",
       "3             4        0   beverages\n",
       "4             4        1      frozen\n",
       "...         ...      ...         ...\n",
       "168643   206203        0     produce\n",
       "168644   206206        0      frozen\n",
       "168645   206207        0  dairy eggs\n",
       "168646   206208        0     produce\n",
       "168647   206209        0  dairy eggs\n",
       "\n",
       "[168648 rows x 3 columns]"
      ]
     },
     "execution_count": 6,
     "metadata": {},
     "output_type": "execute_result"
    }
   ],
   "source": [
    "#Reseting index so that user_id can be used as a merge column onto the main DF\n",
    "fav_dep"
   ]
  },
  {
   "cell_type": "code",
   "execution_count": 7,
   "id": "6baceaeb",
   "metadata": {},
   "outputs": [
    {
     "data": {
      "image/png": "[encoded data removed]",
      "text/plain": [
       "<Figure size 640x480 with 1 Axes>"
      ]
     },
     "metadata": {},
     "output_type": "display_data"
    }
   ],
   "source": [
    "#'level_1' indicates whether a client has more than one mode. e.g user_id 4 buys both beverages and frozen most frequently\n",
    "# In order to get a general sense of favourite product frequency we can plot the column into a bar chart to see which occur more often\n",
    "mode_dep_preference = fav_dep['department'].value_counts().plot.bar()"
   ]
  },
  {
   "cell_type": "code",
   "execution_count": 8,
   "id": "09a8b053",
   "metadata": {},
   "outputs": [],
   "source": [
    "mode_dep_preference.figure.savefig(os.path.join(path, '04 Analysis','Visualizations', 'mode_dep_preference.png'))"
   ]
  },
  {
   "cell_type": "markdown",
   "id": "c7f07a8e",
   "metadata": {},
   "source": [
    "##### now that the table has been created - I'll be adding it onto the main DF, so that any marketting/sales user who exports the data can immediately review a clients preference and email them appropriate discounts.\n",
    "##### Merging on duplicates will cause issues, so we need to remove dupe client ID's which indicates they have 2 modal values. This unaltered subset will be exported - but only the first prefered item will be re-added to the main DF for simplicity."
   ]
  },
  {
   "cell_type": "code",
   "execution_count": 9,
   "id": "bb69472b",
   "metadata": {},
   "outputs": [],
   "source": [
    "fav_dep.to_csv(os.path.join(path,'02 Data','Prepared Data','favourite_department_by_user.csv'))"
   ]
  },
  {
   "cell_type": "code",
   "execution_count": 10,
   "id": "915febe7",
   "metadata": {},
   "outputs": [
    {
     "data": {
      "text/plain": [
       "(168648, 3)"
      ]
     },
     "execution_count": 10,
     "metadata": {},
     "output_type": "execute_result"
    }
   ],
   "source": [
    "#Check shape before droping dupes\n",
    "fav_dep.shape"
   ]
  },
  {
   "cell_type": "code",
   "execution_count": 11,
   "id": "fb07b11c",
   "metadata": {},
   "outputs": [],
   "source": [
    "fav_dep_clean = fav_dep.drop_duplicates('user_id')"
   ]
  },
  {
   "cell_type": "markdown",
   "id": "bfc47f72",
   "metadata": {},
   "source": [
    "##### based on the row count below the table we removed 4000 duplicate responses and now only have the top result (or first result) per client to merge back into the main DF.\n",
    "\n",
    "##### First step in merging is to check the column types for both user_ids - they should both be string/object"
   ]
  },
  {
   "cell_type": "code",
   "execution_count": 26,
   "id": "533b3d86",
   "metadata": {},
   "outputs": [
    {
     "data": {
      "text/plain": [
       "(162631, 3)"
      ]
     },
     "execution_count": 26,
     "metadata": {},
     "output_type": "execute_result"
    }
   ],
   "source": [
    "fav_dep_clean.shape"
   ]
  },
  {
   "cell_type": "markdown",
   "id": "5048c9d5",
   "metadata": {},
   "source": [
    "##### just over 6,000 duplicate lines removed from the fav_dep dataframe"
   ]
  },
  {
   "cell_type": "code",
   "execution_count": 12,
   "id": "bbec3a37",
   "metadata": {},
   "outputs": [
    {
     "data": {
      "text/plain": [
       "dtype('int64')"
      ]
     },
     "execution_count": 12,
     "metadata": {},
     "output_type": "execute_result"
    }
   ],
   "source": [
    "fav_dep_clean['user_id'].dtype"
   ]
  },
  {
   "cell_type": "code",
   "execution_count": 15,
   "id": "65a025c0",
   "metadata": {},
   "outputs": [
    {
     "name": "stderr",
     "output_type": "stream",
     "text": [
      "C:\\Users\\mojos\\AppData\\Local\\Temp\\ipykernel_3960\\1563741926.py:1: SettingWithCopyWarning: \n",
      "A value is trying to be set on a copy of a slice from a DataFrame.\n",
      "Try using .loc[row_indexer,col_indexer] = value instead\n",
      "\n",
      "See the caveats in the documentation: https://pandas.pydata.org/pandas-docs/stable/user_guide/indexing.html#returning-a-view-versus-a-copy\n",
      "  fav_dep_clean['user_id'] = fav_dep_clean['user_id'].astype('str')\n"
     ]
    }
   ],
   "source": [
    "#unsure when the dataframe converted the variable into a different data type, but we had orginally had the user_id value converted to a string as part of a prior script\n",
    "fav_dep_clean['user_id'] = fav_dep_clean['user_id'].astype('str')"
   ]
  },
  {
   "cell_type": "code",
   "execution_count": 13,
   "id": "6e2164fe",
   "metadata": {},
   "outputs": [
    {
     "data": {
      "text/plain": [
       "dtype('int64')"
      ]
     },
     "execution_count": 13,
     "metadata": {},
     "output_type": "execute_result"
    }
   ],
   "source": [
    "ha_ords_prods_custs['user_id'].dtype"
   ]
  },
  {
   "cell_type": "code",
   "execution_count": 14,
   "id": "25daa8b2",
   "metadata": {},
   "outputs": [],
   "source": [
    "ha_ords_prods_custs['user_id'] = ha_ords_prods_custs['user_id'].astype('str')"
   ]
  },
  {
   "cell_type": "code",
   "execution_count": 16,
   "id": "13670035",
   "metadata": {},
   "outputs": [],
   "source": [
    "ha_ords_prods_custs = ha_ords_prods_custs.merge(fav_dep_clean, on ='user_id')"
   ]
  },
  {
   "cell_type": "code",
   "execution_count": 21,
   "id": "11aafe4d",
   "metadata": {},
   "outputs": [
    {
     "data": {
      "text/html": [
       "<div>\n",
       "<style scoped>\n",
       "    .dataframe tbody tr th:only-of-type {\n",
       "        vertical-align: middle;\n",
       "    }\n",
       "\n",
       "    .dataframe tbody tr th {\n",
       "        vertical-align: top;\n",
       "    }\n",
       "\n",
       "    .dataframe thead th {\n",
       "        text-align: right;\n",
       "    }\n",
       "</style>\n",
       "<table border=\"1\" class=\"dataframe\">\n",
       "  <thead>\n",
       "    <tr style=\"text-align: right;\">\n",
       "      <th></th>\n",
       "      <th>order_id</th>\n",
       "      <th>user_id</th>\n",
       "      <th>eval_set</th>\n",
       "      <th>order_number</th>\n",
       "      <th>orders_day_of_week</th>\n",
       "      <th>order_hour_of_day</th>\n",
       "      <th>days_since_prior_order</th>\n",
       "      <th>first_order</th>\n",
       "      <th>product_id</th>\n",
       "      <th>add_to_cart_order</th>\n",
       "      <th>...</th>\n",
       "      <th>date_joined</th>\n",
       "      <th>n_dependants</th>\n",
       "      <th>fam_status</th>\n",
       "      <th>income</th>\n",
       "      <th>_merge</th>\n",
       "      <th>department_x</th>\n",
       "      <th>region</th>\n",
       "      <th>low_activity</th>\n",
       "      <th>level_1</th>\n",
       "      <th>most_freq_department</th>\n",
       "    </tr>\n",
       "  </thead>\n",
       "  <tbody>\n",
       "    <tr>\n",
       "      <th>0</th>\n",
       "      <td>2539329</td>\n",
       "      <td>1</td>\n",
       "      <td>prior</td>\n",
       "      <td>1</td>\n",
       "      <td>2</td>\n",
       "      <td>8</td>\n",
       "      <td>NaN</td>\n",
       "      <td>First Order</td>\n",
       "      <td>196</td>\n",
       "      <td>1</td>\n",
       "      <td>...</td>\n",
       "      <td>2/17/2019</td>\n",
       "      <td>3</td>\n",
       "      <td>married</td>\n",
       "      <td>40423</td>\n",
       "      <td>both</td>\n",
       "      <td>beverages</td>\n",
       "      <td>South</td>\n",
       "      <td>nan</td>\n",
       "      <td>0</td>\n",
       "      <td>snacks</td>\n",
       "    </tr>\n",
       "    <tr>\n",
       "      <th>1</th>\n",
       "      <td>2398795</td>\n",
       "      <td>1</td>\n",
       "      <td>prior</td>\n",
       "      <td>2</td>\n",
       "      <td>3</td>\n",
       "      <td>7</td>\n",
       "      <td>15.0</td>\n",
       "      <td>Repeat Customer</td>\n",
       "      <td>196</td>\n",
       "      <td>1</td>\n",
       "      <td>...</td>\n",
       "      <td>2/17/2019</td>\n",
       "      <td>3</td>\n",
       "      <td>married</td>\n",
       "      <td>40423</td>\n",
       "      <td>both</td>\n",
       "      <td>beverages</td>\n",
       "      <td>South</td>\n",
       "      <td>nan</td>\n",
       "      <td>0</td>\n",
       "      <td>snacks</td>\n",
       "    </tr>\n",
       "    <tr>\n",
       "      <th>2</th>\n",
       "      <td>473747</td>\n",
       "      <td>1</td>\n",
       "      <td>prior</td>\n",
       "      <td>3</td>\n",
       "      <td>3</td>\n",
       "      <td>12</td>\n",
       "      <td>21.0</td>\n",
       "      <td>Repeat Customer</td>\n",
       "      <td>196</td>\n",
       "      <td>1</td>\n",
       "      <td>...</td>\n",
       "      <td>2/17/2019</td>\n",
       "      <td>3</td>\n",
       "      <td>married</td>\n",
       "      <td>40423</td>\n",
       "      <td>both</td>\n",
       "      <td>beverages</td>\n",
       "      <td>South</td>\n",
       "      <td>nan</td>\n",
       "      <td>0</td>\n",
       "      <td>snacks</td>\n",
       "    </tr>\n",
       "    <tr>\n",
       "      <th>3</th>\n",
       "      <td>2254736</td>\n",
       "      <td>1</td>\n",
       "      <td>prior</td>\n",
       "      <td>4</td>\n",
       "      <td>4</td>\n",
       "      <td>7</td>\n",
       "      <td>29.0</td>\n",
       "      <td>Repeat Customer</td>\n",
       "      <td>196</td>\n",
       "      <td>1</td>\n",
       "      <td>...</td>\n",
       "      <td>2/17/2019</td>\n",
       "      <td>3</td>\n",
       "      <td>married</td>\n",
       "      <td>40423</td>\n",
       "      <td>both</td>\n",
       "      <td>beverages</td>\n",
       "      <td>South</td>\n",
       "      <td>nan</td>\n",
       "      <td>0</td>\n",
       "      <td>snacks</td>\n",
       "    </tr>\n",
       "    <tr>\n",
       "      <th>4</th>\n",
       "      <td>431534</td>\n",
       "      <td>1</td>\n",
       "      <td>prior</td>\n",
       "      <td>5</td>\n",
       "      <td>4</td>\n",
       "      <td>15</td>\n",
       "      <td>28.0</td>\n",
       "      <td>Repeat Customer</td>\n",
       "      <td>196</td>\n",
       "      <td>1</td>\n",
       "      <td>...</td>\n",
       "      <td>2/17/2019</td>\n",
       "      <td>3</td>\n",
       "      <td>married</td>\n",
       "      <td>40423</td>\n",
       "      <td>both</td>\n",
       "      <td>beverages</td>\n",
       "      <td>South</td>\n",
       "      <td>nan</td>\n",
       "      <td>0</td>\n",
       "      <td>snacks</td>\n",
       "    </tr>\n",
       "  </tbody>\n",
       "</table>\n",
       "<p>5 rows × 37 columns</p>\n",
       "</div>"
      ],
      "text/plain": [
       "   order_id user_id eval_set  order_number  orders_day_of_week  \\\n",
       "0   2539329       1    prior             1                   2   \n",
       "1   2398795       1    prior             2                   3   \n",
       "2    473747       1    prior             3                   3   \n",
       "3   2254736       1    prior             4                   4   \n",
       "4    431534       1    prior             5                   4   \n",
       "\n",
       "   order_hour_of_day  days_since_prior_order      first_order  product_id  \\\n",
       "0                  8                     NaN      First Order         196   \n",
       "1                  7                    15.0  Repeat Customer         196   \n",
       "2                 12                    21.0  Repeat Customer         196   \n",
       "3                  7                    29.0  Repeat Customer         196   \n",
       "4                 15                    28.0  Repeat Customer         196   \n",
       "\n",
       "   add_to_cart_order  ...  date_joined n_dependants  fam_status income  \\\n",
       "0                  1  ...    2/17/2019            3     married  40423   \n",
       "1                  1  ...    2/17/2019            3     married  40423   \n",
       "2                  1  ...    2/17/2019            3     married  40423   \n",
       "3                  1  ...    2/17/2019            3     married  40423   \n",
       "4                  1  ...    2/17/2019            3     married  40423   \n",
       "\n",
       "   _merge department_x region low_activity  level_1 most_freq_department  \n",
       "0    both    beverages  South          nan        0               snacks  \n",
       "1    both    beverages  South          nan        0               snacks  \n",
       "2    both    beverages  South          nan        0               snacks  \n",
       "3    both    beverages  South          nan        0               snacks  \n",
       "4    both    beverages  South          nan        0               snacks  \n",
       "\n",
       "[5 rows x 37 columns]"
      ]
     },
     "execution_count": 21,
     "metadata": {},
     "output_type": "execute_result"
    }
   ],
   "source": [
    "ha_ords_prods_custs.head()"
   ]
  },
  {
   "cell_type": "code",
   "execution_count": 28,
   "id": "e9bece56",
   "metadata": {},
   "outputs": [
    {
     "data": {
      "text/plain": [
       "(30964564, 37)"
      ]
     },
     "execution_count": 28,
     "metadata": {},
     "output_type": "execute_result"
    }
   ],
   "source": [
    "ha_ords_prods_custs.shape"
   ]
  },
  {
   "cell_type": "code",
   "execution_count": 20,
   "id": "43ed8440",
   "metadata": {},
   "outputs": [],
   "source": [
    "ha_ords_prods_custs.rename(columns = {'department_y':'most_freq_department'},inplace=True)"
   ]
  },
  {
   "cell_type": "code",
   "execution_count": 22,
   "id": "2e8bdddf",
   "metadata": {},
   "outputs": [
    {
     "data": {
      "text/plain": [
       "most_freq_department\n",
       "produce            20512160\n",
       "dairy eggs          4800502\n",
       "beverages           1787360\n",
       "snacks              1589927\n",
       "frozen              1049718\n",
       "babies               236694\n",
       "pantry               217081\n",
       "household            214817\n",
       "alcohol              158402\n",
       "bakery                66421\n",
       "canned goods          65680\n",
       "pets                  62172\n",
       "personal care         57519\n",
       "deli                  48818\n",
       "breakfast             44600\n",
       "dry goods pasta       33518\n",
       "meat seafood          14247\n",
       "international          3762\n",
       "missing                 506\n",
       "bulk                    375\n",
       "other                   285\n",
       "Name: count, dtype: int64"
      ]
     },
     "execution_count": 22,
     "metadata": {},
     "output_type": "execute_result"
    }
   ],
   "source": [
    "ha_ords_prods_custs['most_freq_department'].value_counts(dropna=False)"
   ]
  },
  {
   "cell_type": "code",
   "execution_count": 30,
   "id": "7272f58f",
   "metadata": {},
   "outputs": [
    {
     "data": {
      "text/plain": [
       "30964564"
      ]
     },
     "execution_count": 30,
     "metadata": {},
     "output_type": "execute_result"
    }
   ],
   "source": [
    "ha_ords_prods_custs['most_freq_department'].size"
   ]
  },
  {
   "cell_type": "code",
   "execution_count": 25,
   "id": "b3d07b90",
   "metadata": {},
   "outputs": [],
   "source": [
    "ha_ords_prods_custs.to_pickle(os.path.join(path,'02 Data','Prepared Data','ha_ords_prods_custs_w_dep.pkl'))"
   ]
  },
  {
   "cell_type": "code",
   "execution_count": null,
   "id": "a732fe5e",
   "metadata": {},
   "outputs": [],
   "source": []
  }
 ],
 "metadata": {
  "kernelspec": {
   "display_name": "Python 3 (ipykernel)",
   "language": "python",
   "name": "python3"
  },
  "language_info": {
   "codemirror_mode": {
    "name": "ipython",
    "version": 3
   },
   "file_extension": ".py",
   "mimetype": "text/x-python",
   "name": "python",
   "nbconvert_exporter": "python",
   "pygments_lexer": "ipython3",
   "version": "3.11.5"
  }
 },
 "nbformat": 4,
 "nbformat_minor": 5
}

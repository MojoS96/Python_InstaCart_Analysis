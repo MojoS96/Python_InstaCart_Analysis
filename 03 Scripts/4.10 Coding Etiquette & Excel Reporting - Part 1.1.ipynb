{
 "cells": [
  {
   "cell_type": "markdown",
   "id": "efe392eb",
   "metadata": {},
   "source": [
    "## Ex 4.10\n",
    "\n",
    "### Part 1\n",
    "##### - a) Importing Libraries\n",
    "##### - b) Importing Pickle\n",
    "##### - c) Performing Data checks on imported files\n",
    "##### - d) Addressing PPI concerns\n",
    "### Part 2\n",
    "##### - a) Creating a region variable\n",
    "##### - b) Confirming regional spend type differences\n",
    "##### - c) Creating an exclusion flag for clients with low order frequency\n",
    "### Part 3\n",
    "##### - a) Creating customer (Cx) profiles based on Age-Income as well as Family Details -Incomes\n",
    "##### - b) Showcase Cx profile distribution using visualizations\n",
    "##### - c) Overview of aggregtation statistics for order_frequency and order_totals (expenditure) for each Cx profile\n",
    "### Part 4\n",
    "##### - a) Cx profile comparisions: Region, Deapartment\n",
    "##### - b) Comparison Visualizations"
   ]
  },
  {
   "cell_type": "markdown",
   "id": "618f2c42",
   "metadata": {},
   "source": [
    "#### Part 1. a) - Importing libraries and data sets"
   ]
  },
  {
   "cell_type": "code",
   "execution_count": 1,
   "id": "835339fb",
   "metadata": {},
   "outputs": [],
   "source": [
    "#Importing Libraries:\n",
    "\n",
    "import pandas as pd\n",
    "import numpy as np\n",
    "import os\n",
    "import matplotlib.pyplot as plt\n",
    "import seaborn as sns\n",
    "import scipy\n"
   ]
  },
  {
   "cell_type": "code",
   "execution_count": 2,
   "id": "bec78dd2",
   "metadata": {},
   "outputs": [],
   "source": [
    "path = r'C:\\Users\\mojos\\OneDrive\\Career Foundry Course\\Task4 - InstaCart Project\\02 Data'"
   ]
  },
  {
   "cell_type": "markdown",
   "id": "96bff66c",
   "metadata": {},
   "source": [
    "#### b) Importing Pickle & CSV"
   ]
  },
  {
   "cell_type": "code",
   "execution_count": 3,
   "id": "867c30fa",
   "metadata": {},
   "outputs": [],
   "source": [
    "ords_prods_custs = pd.read_pickle(os.path.join(path,'Prepared Data','ords_prods_custs_with_departments.pkl'))"
   ]
  },
  {
   "cell_type": "markdown",
   "id": "66ec1f37",
   "metadata": {},
   "source": [
    "#### c) Performing Data checks on imported files"
   ]
  },
  {
   "cell_type": "code",
   "execution_count": 4,
   "id": "2d08b489",
   "metadata": {},
   "outputs": [
    {
     "data": {
      "text/html": [
       "<div>\n",
       "<style scoped>\n",
       "    .dataframe tbody tr th:only-of-type {\n",
       "        vertical-align: middle;\n",
       "    }\n",
       "\n",
       "    .dataframe tbody tr th {\n",
       "        vertical-align: top;\n",
       "    }\n",
       "\n",
       "    .dataframe thead th {\n",
       "        text-align: right;\n",
       "    }\n",
       "</style>\n",
       "<table border=\"1\" class=\"dataframe\">\n",
       "  <thead>\n",
       "    <tr style=\"text-align: right;\">\n",
       "      <th></th>\n",
       "      <th>order_id</th>\n",
       "      <th>user_id</th>\n",
       "      <th>eval_set</th>\n",
       "      <th>order_number</th>\n",
       "      <th>orders_day_of_week</th>\n",
       "      <th>order_hour_of_day</th>\n",
       "      <th>days_since_prior_order</th>\n",
       "      <th>first_order</th>\n",
       "      <th>product_id</th>\n",
       "      <th>add_to_cart_order</th>\n",
       "      <th>...</th>\n",
       "      <th>Surnam</th>\n",
       "      <th>Gender</th>\n",
       "      <th>STATE</th>\n",
       "      <th>Age</th>\n",
       "      <th>date_joined</th>\n",
       "      <th>n_dependants</th>\n",
       "      <th>fam_status</th>\n",
       "      <th>income</th>\n",
       "      <th>_merge</th>\n",
       "      <th>department</th>\n",
       "    </tr>\n",
       "  </thead>\n",
       "  <tbody>\n",
       "    <tr>\n",
       "      <th>0</th>\n",
       "      <td>2539329</td>\n",
       "      <td>1</td>\n",
       "      <td>prior</td>\n",
       "      <td>1</td>\n",
       "      <td>2</td>\n",
       "      <td>8</td>\n",
       "      <td>NaN</td>\n",
       "      <td>First Order</td>\n",
       "      <td>196</td>\n",
       "      <td>1</td>\n",
       "      <td>...</td>\n",
       "      <td>Nguyen</td>\n",
       "      <td>Female</td>\n",
       "      <td>Alabama</td>\n",
       "      <td>31</td>\n",
       "      <td>2/17/2019</td>\n",
       "      <td>3</td>\n",
       "      <td>married</td>\n",
       "      <td>40423</td>\n",
       "      <td>both</td>\n",
       "      <td>beverages</td>\n",
       "    </tr>\n",
       "    <tr>\n",
       "      <th>1</th>\n",
       "      <td>2398795</td>\n",
       "      <td>1</td>\n",
       "      <td>prior</td>\n",
       "      <td>2</td>\n",
       "      <td>3</td>\n",
       "      <td>7</td>\n",
       "      <td>15.0</td>\n",
       "      <td>Repeat Customer</td>\n",
       "      <td>196</td>\n",
       "      <td>1</td>\n",
       "      <td>...</td>\n",
       "      <td>Nguyen</td>\n",
       "      <td>Female</td>\n",
       "      <td>Alabama</td>\n",
       "      <td>31</td>\n",
       "      <td>2/17/2019</td>\n",
       "      <td>3</td>\n",
       "      <td>married</td>\n",
       "      <td>40423</td>\n",
       "      <td>both</td>\n",
       "      <td>beverages</td>\n",
       "    </tr>\n",
       "    <tr>\n",
       "      <th>2</th>\n",
       "      <td>473747</td>\n",
       "      <td>1</td>\n",
       "      <td>prior</td>\n",
       "      <td>3</td>\n",
       "      <td>3</td>\n",
       "      <td>12</td>\n",
       "      <td>21.0</td>\n",
       "      <td>Repeat Customer</td>\n",
       "      <td>196</td>\n",
       "      <td>1</td>\n",
       "      <td>...</td>\n",
       "      <td>Nguyen</td>\n",
       "      <td>Female</td>\n",
       "      <td>Alabama</td>\n",
       "      <td>31</td>\n",
       "      <td>2/17/2019</td>\n",
       "      <td>3</td>\n",
       "      <td>married</td>\n",
       "      <td>40423</td>\n",
       "      <td>both</td>\n",
       "      <td>beverages</td>\n",
       "    </tr>\n",
       "    <tr>\n",
       "      <th>3</th>\n",
       "      <td>2254736</td>\n",
       "      <td>1</td>\n",
       "      <td>prior</td>\n",
       "      <td>4</td>\n",
       "      <td>4</td>\n",
       "      <td>7</td>\n",
       "      <td>29.0</td>\n",
       "      <td>Repeat Customer</td>\n",
       "      <td>196</td>\n",
       "      <td>1</td>\n",
       "      <td>...</td>\n",
       "      <td>Nguyen</td>\n",
       "      <td>Female</td>\n",
       "      <td>Alabama</td>\n",
       "      <td>31</td>\n",
       "      <td>2/17/2019</td>\n",
       "      <td>3</td>\n",
       "      <td>married</td>\n",
       "      <td>40423</td>\n",
       "      <td>both</td>\n",
       "      <td>beverages</td>\n",
       "    </tr>\n",
       "    <tr>\n",
       "      <th>4</th>\n",
       "      <td>431534</td>\n",
       "      <td>1</td>\n",
       "      <td>prior</td>\n",
       "      <td>5</td>\n",
       "      <td>4</td>\n",
       "      <td>15</td>\n",
       "      <td>28.0</td>\n",
       "      <td>Repeat Customer</td>\n",
       "      <td>196</td>\n",
       "      <td>1</td>\n",
       "      <td>...</td>\n",
       "      <td>Nguyen</td>\n",
       "      <td>Female</td>\n",
       "      <td>Alabama</td>\n",
       "      <td>31</td>\n",
       "      <td>2/17/2019</td>\n",
       "      <td>3</td>\n",
       "      <td>married</td>\n",
       "      <td>40423</td>\n",
       "      <td>both</td>\n",
       "      <td>beverages</td>\n",
       "    </tr>\n",
       "  </tbody>\n",
       "</table>\n",
       "<p>5 rows × 35 columns</p>\n",
       "</div>"
      ],
      "text/plain": [
       "   order_id  user_id eval_set  order_number  orders_day_of_week  \\\n",
       "0   2539329        1    prior             1                   2   \n",
       "1   2398795        1    prior             2                   3   \n",
       "2    473747        1    prior             3                   3   \n",
       "3   2254736        1    prior             4                   4   \n",
       "4    431534        1    prior             5                   4   \n",
       "\n",
       "   order_hour_of_day  days_since_prior_order      first_order  product_id  \\\n",
       "0                  8                     NaN      First Order         196   \n",
       "1                  7                    15.0  Repeat Customer         196   \n",
       "2                 12                    21.0  Repeat Customer         196   \n",
       "3                  7                    29.0  Repeat Customer         196   \n",
       "4                 15                    28.0  Repeat Customer         196   \n",
       "\n",
       "   add_to_cart_order  ...  Surnam  Gender    STATE Age  date_joined  \\\n",
       "0                  1  ...  Nguyen  Female  Alabama  31    2/17/2019   \n",
       "1                  1  ...  Nguyen  Female  Alabama  31    2/17/2019   \n",
       "2                  1  ...  Nguyen  Female  Alabama  31    2/17/2019   \n",
       "3                  1  ...  Nguyen  Female  Alabama  31    2/17/2019   \n",
       "4                  1  ...  Nguyen  Female  Alabama  31    2/17/2019   \n",
       "\n",
       "  n_dependants fam_status income  _merge department  \n",
       "0            3    married  40423    both  beverages  \n",
       "1            3    married  40423    both  beverages  \n",
       "2            3    married  40423    both  beverages  \n",
       "3            3    married  40423    both  beverages  \n",
       "4            3    married  40423    both  beverages  \n",
       "\n",
       "[5 rows x 35 columns]"
      ]
     },
     "execution_count": 4,
     "metadata": {},
     "output_type": "execute_result"
    }
   ],
   "source": [
    "ords_prods_custs.head()"
   ]
  },
  {
   "cell_type": "markdown",
   "id": "429158f4",
   "metadata": {},
   "source": [
    "#### An additional action to clean up prices needs to take place - 2% milk products are showing up as 999999 prices and are skewing price related calculations. In order to clean these values I have decided to impute the mean product price related from a subset of the data that DOES NOT contain the outlier values. Actions completed in 5 steps - Describe() the regular 'prices' column. Subset the 'good' data and calculate the mean (highest value is typically 25, but as an additional precaution, I'll do anything under 500, as we know the outlier values are 14500 and 99999. lastly, use .loc to then repace the outliers with the mean value"
   ]
  },
  {
   "cell_type": "code",
   "execution_count": 5,
   "id": "e418ece1",
   "metadata": {
    "scrolled": true
   },
   "outputs": [
    {
     "data": {
      "text/plain": [
       "count    3.240486e+07\n",
       "mean     1.198023e+01\n",
       "std      4.956554e+02\n",
       "min      1.000000e+00\n",
       "25%      4.200000e+00\n",
       "50%      7.400000e+00\n",
       "75%      1.130000e+01\n",
       "max      9.999900e+04\n",
       "Name: prices, dtype: float64"
      ]
     },
     "execution_count": 5,
     "metadata": {},
     "output_type": "execute_result"
    }
   ],
   "source": [
    "ords_prods_custs['prices'].describe()"
   ]
  },
  {
   "cell_type": "code",
   "execution_count": 6,
   "id": "52ea90a2",
   "metadata": {},
   "outputs": [],
   "source": [
    "ords_no_outliers = ords_prods_custs[ords_prods_custs['prices']<=1000]"
   ]
  },
  {
   "cell_type": "code",
   "execution_count": 7,
   "id": "dbec674d",
   "metadata": {},
   "outputs": [
    {
     "data": {
      "text/plain": [
       "count    3.239973e+07\n",
       "mean     7.790994e+00\n",
       "std      4.241809e+00\n",
       "min      1.000000e+00\n",
       "25%      4.200000e+00\n",
       "50%      7.400000e+00\n",
       "75%      1.130000e+01\n",
       "max      2.500000e+01\n",
       "Name: prices, dtype: float64"
      ]
     },
     "execution_count": 7,
     "metadata": {},
     "output_type": "execute_result"
    }
   ],
   "source": [
    "ords_no_outliers['prices'].describe()"
   ]
  },
  {
   "cell_type": "code",
   "execution_count": 8,
   "id": "154d3761",
   "metadata": {},
   "outputs": [],
   "source": [
    "ords_prods_custs.loc[ords_prods_custs['prices'] >= 500, 'prices'] = 7.79"
   ]
  },
  {
   "cell_type": "code",
   "execution_count": 9,
   "id": "758f4859",
   "metadata": {},
   "outputs": [
    {
     "data": {
      "text/plain": [
       "count    3.240486e+07\n",
       "mean     7.790994e+00\n",
       "std      4.241474e+00\n",
       "min      1.000000e+00\n",
       "25%      4.200000e+00\n",
       "50%      7.400000e+00\n",
       "75%      1.130000e+01\n",
       "max      2.500000e+01\n",
       "Name: prices, dtype: float64"
      ]
     },
     "execution_count": 9,
     "metadata": {},
     "output_type": "execute_result"
    }
   ],
   "source": [
    "ords_prods_custs['prices'].describe()"
   ]
  },
  {
   "cell_type": "markdown",
   "id": "4f8b9342",
   "metadata": {},
   "source": [
    "#### d) Addressing PPI concerns - Due to the customer data added onto the right side of the file, the data contains personal information which can be linked to a specific individual (though in this case, the data is fabricated). This PII would need to be brought to manager/senior colleagues attention so that it can be dealt with in acordance with company and legal regulations prior to being stored/distributed.\n",
    "\n",
    "#### In this instance, since there is no superior, I've decided to remove the name columns so that the user is able to remain anonymous"
   ]
  },
  {
   "cell_type": "code",
   "execution_count": 10,
   "id": "13638555",
   "metadata": {},
   "outputs": [
    {
     "data": {
      "text/plain": [
       "Index(['order_id', 'user_id', 'eval_set', 'order_number', 'orders_day_of_week',\n",
       "       'order_hour_of_day', 'days_since_prior_order', 'first_order',\n",
       "       'product_id', 'add_to_cart_order', 'reordered', 'product_name',\n",
       "       'aisle_id', 'department_id', 'prices', 'price_range_loc',\n",
       "       'busiest_days', 'busiest_period_of_day', 'max_order', 'loyalty_flag',\n",
       "       'mean_price', 'cx_spend_type', 'order_frequency', 'cx_order_frequency',\n",
       "       'First Name', 'Surnam', 'Gender', 'STATE', 'Age', 'date_joined',\n",
       "       'n_dependants', 'fam_status', 'income', '_merge', 'department'],\n",
       "      dtype='object')"
      ]
     },
     "execution_count": 10,
     "metadata": {},
     "output_type": "execute_result"
    }
   ],
   "source": [
    "ords_prods_custs.columns"
   ]
  },
  {
   "cell_type": "code",
   "execution_count": 11,
   "id": "3bb7adf1",
   "metadata": {},
   "outputs": [
    {
     "data": {
      "text/plain": [
       "(32404859, 35)"
      ]
     },
     "execution_count": 11,
     "metadata": {},
     "output_type": "execute_result"
    }
   ],
   "source": [
    "#Validating column countr prior to dropping\n",
    "ords_prods_custs.shape"
   ]
  },
  {
   "cell_type": "code",
   "execution_count": 12,
   "id": "5aa6c5fd",
   "metadata": {},
   "outputs": [],
   "source": [
    "ords_prods_custs = ords_prods_custs.drop(columns = ['First Name'])"
   ]
  },
  {
   "cell_type": "code",
   "execution_count": 13,
   "id": "605d9eb4",
   "metadata": {},
   "outputs": [],
   "source": [
    "ords_prods_custs = ords_prods_custs.drop(columns = ['Surnam'])"
   ]
  },
  {
   "cell_type": "code",
   "execution_count": 14,
   "id": "9f7a19c0",
   "metadata": {},
   "outputs": [
    {
     "data": {
      "text/plain": [
       "(32404859, 33)"
      ]
     },
     "execution_count": 14,
     "metadata": {},
     "output_type": "execute_result"
    }
   ],
   "source": [
    "ords_prods_custs.shape"
   ]
  },
  {
   "cell_type": "markdown",
   "id": "30f9a8f8",
   "metadata": {},
   "source": [
    "#### Part 2. a) Creating a for-loop to segment the states into regions which can then be used to determine spending habits across regions."
   ]
  },
  {
   "cell_type": "code",
   "execution_count": 15,
   "id": "a03831a4",
   "metadata": {},
   "outputs": [
    {
     "data": {
      "text/plain": [
       "STATE\n",
       "Pennsylvania            667082\n",
       "California              659783\n",
       "Rhode Island            656913\n",
       "Georgia                 656389\n",
       "New Mexico              654494\n",
       "Arizona                 653964\n",
       "North Carolina          651900\n",
       "Oklahoma                651739\n",
       "Alaska                  648495\n",
       "Minnesota               647825\n",
       "Massachusetts           646358\n",
       "Wyoming                 644255\n",
       "Virginia                641421\n",
       "Missouri                640732\n",
       "Texas                   640394\n",
       "Colorado                639280\n",
       "Maine                   638583\n",
       "North Dakota            638491\n",
       "Alabama                 638003\n",
       "Kansas                  637538\n",
       "Louisiana               637482\n",
       "Delaware                637024\n",
       "South Carolina          636754\n",
       "Oregon                  636425\n",
       "Arkansas                636144\n",
       "Nevada                  636139\n",
       "New York                635983\n",
       "Montana                 635265\n",
       "South Dakota            633772\n",
       "Illinois                633024\n",
       "Hawaii                  632901\n",
       "Washington              632852\n",
       "Mississippi             632675\n",
       "Kentucky                632490\n",
       "Michigan                630928\n",
       "Florida                 629027\n",
       "Ohio                    628319\n",
       "Wisconsin               628108\n",
       "New Jersey              627692\n",
       "Indiana                 627282\n",
       "Maryland                626579\n",
       "Nebraska                625813\n",
       "Iowa                    625493\n",
       "Connecticut             623022\n",
       "Tennessee               617873\n",
       "New Hampshire           615378\n",
       "District of Columbia    613695\n",
       "West Virginia           612296\n",
       "Utah                    611941\n",
       "Vermont                 611725\n",
       "Idaho                   607119\n",
       "Name: count, dtype: int64"
      ]
     },
     "execution_count": 15,
     "metadata": {},
     "output_type": "execute_result"
    }
   ],
   "source": [
    "#Double checking preliminary counts of each states aswell as seeing if there are any spelling issues/missing values\n",
    "ords_prods_custs['STATE'].value_counts(dropna = False)"
   ]
  },
  {
   "cell_type": "code",
   "execution_count": 16,
   "id": "05a3be48",
   "metadata": {},
   "outputs": [],
   "source": [
    "result = []\n",
    "\n",
    "for value in ords_prods_custs ['STATE']:\n",
    "    if (value == 'Maine') or (value == 'New Hampshire') or (value == 'Vermont') or (value == 'Massachusetts') or (value == 'Rhode Island') or (value == 'Connecticut') or (value == 'New York') or (value == 'Pennsylvania') or (value == 'New Jersey'):\n",
    "        result.append('Northeast')\n",
    "    elif (value == 'Wisconsin') or (value == 'Michigan') or (value == 'Illinois') or (value == 'Indiana') or (value == 'Ohio') or (value == 'North Dakota') or (value == 'South Dakota') or (value == 'Nebraska') or (value == 'Kansas') or (value == 'Minnesota') or (value == 'Iowa') or (value == 'Missouri'):\n",
    "        result.append('Midwest')\n",
    "    elif (value == 'Delaware') or (value == 'Maryland') or (value == 'District of Columbia') or (value == 'Virginia') or (value == 'West Virginia') or (value == 'North Carolina') or (value == 'South Carolina') or (value == 'Georgia') or (value == 'Florida') or (value == 'Kentucky') or (value == 'Tennessee') or (value == 'Mississippi') or (value == 'Alabama') or (value == 'Oklahoma') or (value == 'Texas') or (value == 'Arkansas') or (value == 'Louisiana'):\n",
    "        result.append('South')\n",
    "    elif (value == 'Idaho') or (value == 'Montana') or (value == 'Wyoming') or (value == 'Nevada') or (value == 'Utah') or (value == 'Colorado') or (value == 'Arizona') or (value == 'New Mexico') or (value == 'Alaska') or (value == 'Washington') or (value == 'Oregon') or (value == 'California') or (value == 'Hawaii'):\n",
    "        result.append('West')\n",
    "    else:\n",
    "        result.append('Region Not Specified')"
   ]
  },
  {
   "cell_type": "code",
   "execution_count": 17,
   "id": "2b8aebdd",
   "metadata": {},
   "outputs": [],
   "source": [
    "ords_prods_custs['region'] = result"
   ]
  },
  {
   "cell_type": "code",
   "execution_count": 18,
   "id": "3661f1ea",
   "metadata": {},
   "outputs": [
    {
     "data": {
      "text/plain": [
       "region\n",
       "South        10791885\n",
       "West          8292913\n",
       "Midwest       7597325\n",
       "Northeast     5722736\n",
       "Name: count, dtype: int64"
      ]
     },
     "execution_count": 18,
     "metadata": {},
     "output_type": "execute_result"
    }
   ],
   "source": [
    "#Validation for new variable added to main Dataframe\n",
    "ords_prods_custs['region'].value_counts(dropna=False)"
   ]
  },
  {
   "cell_type": "code",
   "execution_count": 19,
   "id": "aeae476f",
   "metadata": {},
   "outputs": [
    {
     "data": {
      "text/plain": [
       "(32404859,)"
      ]
     },
     "execution_count": 19,
     "metadata": {},
     "output_type": "execute_result"
    }
   ],
   "source": [
    "ords_prods_custs['region'].shape"
   ]
  },
  {
   "cell_type": "markdown",
   "id": "d2e32eb7",
   "metadata": {},
   "source": [
    "#### After having performed the for-loop with an if statement, we can see that the output in the newly created 'region' column matches the overall df shape, and there are no missing values (or 'region not specified' values as per the 'else' function)"
   ]
  },
  {
   "cell_type": "markdown",
   "id": "ba627112",
   "metadata": {},
   "source": [
    "#### b) Regional spending differences"
   ]
  },
  {
   "cell_type": "code",
   "execution_count": 20,
   "id": "6900188b",
   "metadata": {},
   "outputs": [
    {
     "data": {
      "text/plain": [
       "Index(['order_id', 'user_id', 'eval_set', 'order_number', 'orders_day_of_week',\n",
       "       'order_hour_of_day', 'days_since_prior_order', 'first_order',\n",
       "       'product_id', 'add_to_cart_order', 'reordered', 'product_name',\n",
       "       'aisle_id', 'department_id', 'prices', 'price_range_loc',\n",
       "       'busiest_days', 'busiest_period_of_day', 'max_order', 'loyalty_flag',\n",
       "       'mean_price', 'cx_spend_type', 'order_frequency', 'cx_order_frequency',\n",
       "       'Gender', 'STATE', 'Age', 'date_joined', 'n_dependants', 'fam_status',\n",
       "       'income', '_merge', 'department', 'region'],\n",
       "      dtype='object')"
      ]
     },
     "execution_count": 20,
     "metadata": {},
     "output_type": "execute_result"
    }
   ],
   "source": [
    "ords_prods_custs.columns"
   ]
  },
  {
   "cell_type": "code",
   "execution_count": 21,
   "id": "aaa42233",
   "metadata": {},
   "outputs": [],
   "source": [
    "#performing crosstab on the region and Spend Type flags variables\n",
    "reg_spend_crosstab = pd.crosstab(ords_prods_custs['region'], ords_prods_custs['cx_spend_type'], dropna = False)"
   ]
  },
  {
   "cell_type": "code",
   "execution_count": 22,
   "id": "edc24725",
   "metadata": {},
   "outputs": [
    {
     "data": {
      "text/html": [
       "<div>\n",
       "<style scoped>\n",
       "    .dataframe tbody tr th:only-of-type {\n",
       "        vertical-align: middle;\n",
       "    }\n",
       "\n",
       "    .dataframe tbody tr th {\n",
       "        vertical-align: top;\n",
       "    }\n",
       "\n",
       "    .dataframe thead th {\n",
       "        text-align: right;\n",
       "    }\n",
       "</style>\n",
       "<table border=\"1\" class=\"dataframe\">\n",
       "  <thead>\n",
       "    <tr style=\"text-align: right;\">\n",
       "      <th>cx_spend_type</th>\n",
       "      <th>High spender</th>\n",
       "      <th>Low spender</th>\n",
       "    </tr>\n",
       "    <tr>\n",
       "      <th>region</th>\n",
       "      <th></th>\n",
       "      <th></th>\n",
       "    </tr>\n",
       "  </thead>\n",
       "  <tbody>\n",
       "    <tr>\n",
       "      <th>Midwest</th>\n",
       "      <td>155975</td>\n",
       "      <td>7441350</td>\n",
       "    </tr>\n",
       "    <tr>\n",
       "      <th>Northeast</th>\n",
       "      <td>108225</td>\n",
       "      <td>5614511</td>\n",
       "    </tr>\n",
       "    <tr>\n",
       "      <th>South</th>\n",
       "      <td>209691</td>\n",
       "      <td>10582194</td>\n",
       "    </tr>\n",
       "    <tr>\n",
       "      <th>West</th>\n",
       "      <td>160354</td>\n",
       "      <td>8132559</td>\n",
       "    </tr>\n",
       "  </tbody>\n",
       "</table>\n",
       "</div>"
      ],
      "text/plain": [
       "cx_spend_type  High spender  Low spender\n",
       "region                                  \n",
       "Midwest              155975      7441350\n",
       "Northeast            108225      5614511\n",
       "South                209691     10582194\n",
       "West                 160354      8132559"
      ]
     },
     "execution_count": 22,
     "metadata": {},
     "output_type": "execute_result"
    }
   ],
   "source": [
    "reg_spend_crosstab"
   ]
  },
  {
   "cell_type": "code",
   "execution_count": 23,
   "id": "7b3ba59f",
   "metadata": {},
   "outputs": [],
   "source": [
    "reg_spend_crosstab.to_clipboard()"
   ]
  },
  {
   "cell_type": "code",
   "execution_count": 24,
   "id": "db7823ce",
   "metadata": {},
   "outputs": [
    {
     "data": {
      "image/png": "[encoded data removed]",
      "text/plain": [
       "<Figure size 640x480 with 1 Axes>"
      ]
     },
     "metadata": {},
     "output_type": "display_data"
    }
   ],
   "source": [
    "Bar_reg_spend_crosstab = reg_spend_crosstab.plot.bar()"
   ]
  },
  {
   "cell_type": "markdown",
   "id": "60494f08",
   "metadata": {},
   "source": [
    "#### Observation: Based on the wikipedia definitions of 'regions' each region has an even proportion of customers with 'High Spender' flags. (excel manipulation, via the to_clipboard() function, shows that 'high-spenders' account for only 2% in each region)\n",
    "#### The South houses the largest population of InstaCart customers\n",
    "\n",
    "#### As an additional extra, a crosstab containing the frequency of Loyalty Flags has also been generated to see how a higher level view of customer behaviours also differ region to region."
   ]
  },
  {
   "cell_type": "code",
   "execution_count": 25,
   "id": "0aadc1f4",
   "metadata": {},
   "outputs": [],
   "source": [
    "reg_loyalty_crosstab = pd.crosstab(ords_prods_custs['region'], ords_prods_custs['loyalty_flag'], dropna = False)"
   ]
  },
  {
   "cell_type": "code",
   "execution_count": 26,
   "id": "9e3800e7",
   "metadata": {},
   "outputs": [
    {
     "data": {
      "text/html": [
       "<div>\n",
       "<style scoped>\n",
       "    .dataframe tbody tr th:only-of-type {\n",
       "        vertical-align: middle;\n",
       "    }\n",
       "\n",
       "    .dataframe tbody tr th {\n",
       "        vertical-align: top;\n",
       "    }\n",
       "\n",
       "    .dataframe thead th {\n",
       "        text-align: right;\n",
       "    }\n",
       "</style>\n",
       "<table border=\"1\" class=\"dataframe\">\n",
       "  <thead>\n",
       "    <tr style=\"text-align: right;\">\n",
       "      <th>loyalty_flag</th>\n",
       "      <th>Loyal customer</th>\n",
       "      <th>New customer</th>\n",
       "      <th>Regular customer</th>\n",
       "    </tr>\n",
       "    <tr>\n",
       "      <th>region</th>\n",
       "      <th></th>\n",
       "      <th></th>\n",
       "      <th></th>\n",
       "    </tr>\n",
       "  </thead>\n",
       "  <tbody>\n",
       "    <tr>\n",
       "      <th>Midwest</th>\n",
       "      <td>2373774</td>\n",
       "      <td>1472573</td>\n",
       "      <td>3750978</td>\n",
       "    </tr>\n",
       "    <tr>\n",
       "      <th>Northeast</th>\n",
       "      <td>1841785</td>\n",
       "      <td>1100207</td>\n",
       "      <td>2780744</td>\n",
       "    </tr>\n",
       "    <tr>\n",
       "      <th>South</th>\n",
       "      <td>3405844</td>\n",
       "      <td>2074410</td>\n",
       "      <td>5311631</td>\n",
       "    </tr>\n",
       "    <tr>\n",
       "      <th>West</th>\n",
       "      <td>2662690</td>\n",
       "      <td>1596800</td>\n",
       "      <td>4033423</td>\n",
       "    </tr>\n",
       "  </tbody>\n",
       "</table>\n",
       "</div>"
      ],
      "text/plain": [
       "loyalty_flag  Loyal customer  New customer  Regular customer\n",
       "region                                                      \n",
       "Midwest              2373774       1472573           3750978\n",
       "Northeast            1841785       1100207           2780744\n",
       "South                3405844       2074410           5311631\n",
       "West                 2662690       1596800           4033423"
      ]
     },
     "execution_count": 26,
     "metadata": {},
     "output_type": "execute_result"
    }
   ],
   "source": [
    "reg_loyalty_crosstab"
   ]
  },
  {
   "cell_type": "code",
   "execution_count": 27,
   "id": "bae90856",
   "metadata": {},
   "outputs": [],
   "source": [
    "reg_loyalty_crosstab.to_clipboard()"
   ]
  },
  {
   "cell_type": "code",
   "execution_count": 28,
   "id": "db89c165",
   "metadata": {},
   "outputs": [
    {
     "data": {
      "image/png": "[encoded data removed]",
      "text/plain": [
       "<Figure size 640x480 with 1 Axes>"
      ]
     },
     "metadata": {},
     "output_type": "display_data"
    }
   ],
   "source": [
    "Bar_reg_loyalty_crosstab = reg_loyalty_crosstab.plot.bar()"
   ]
  },
  {
   "cell_type": "markdown",
   "id": "d249b9c6",
   "metadata": {},
   "source": [
    "#### Preliminary review of the crosstab and resulting visualization indicate that size not withstanding, customer behaviour across regions so far seems fairly consistent - After manipulating the crosstab in excel I can confirm that each region had a 31-32% proportion of loyal, or frequent, users"
   ]
  },
  {
   "cell_type": "markdown",
   "id": "009cfc4c",
   "metadata": {},
   "source": [
    "#### d) Generation an exclusionary Flag - we already have a 'max order' column from a prior task which we can leverage for a customers total qty of orders - using a df.loc function we can create a new flag to indicates we need to 'exclude' them from future analysis"
   ]
  },
  {
   "cell_type": "code",
   "execution_count": 29,
   "id": "1ad0874a",
   "metadata": {},
   "outputs": [],
   "source": [
    "#creating a new column with an exclude flag\n",
    "ords_prods_custs.loc[ords_prods_custs['max_order']<5,'low_activity'] = 'Low Activity'"
   ]
  },
  {
   "cell_type": "code",
   "execution_count": 30,
   "id": "e3986cb9",
   "metadata": {},
   "outputs": [
    {
     "data": {
      "text/plain": [
       "low_activity\n",
       "nan             30964564\n",
       "Low Activity     1440295\n",
       "Name: count, dtype: int64"
      ]
     },
     "execution_count": 30,
     "metadata": {},
     "output_type": "execute_result"
    }
   ],
   "source": [
    "ords_prods_custs['low_activity'].value_counts(dropna = False)"
   ]
  },
  {
   "cell_type": "code",
   "execution_count": 31,
   "id": "12c65ed3",
   "metadata": {},
   "outputs": [],
   "source": [
    "#creating a subset of data for the low-activity (la) & Hich-activity (ha) customers:\n",
    "\n",
    "la_ords_prods_custs = ords_prods_custs[ords_prods_custs['low_activity']=='Low Activity']"
   ]
  },
  {
   "cell_type": "code",
   "execution_count": 32,
   "id": "863cd757",
   "metadata": {},
   "outputs": [
    {
     "data": {
      "text/html": [
       "<div>\n",
       "<style scoped>\n",
       "    .dataframe tbody tr th:only-of-type {\n",
       "        vertical-align: middle;\n",
       "    }\n",
       "\n",
       "    .dataframe tbody tr th {\n",
       "        vertical-align: top;\n",
       "    }\n",
       "\n",
       "    .dataframe thead th {\n",
       "        text-align: right;\n",
       "    }\n",
       "</style>\n",
       "<table border=\"1\" class=\"dataframe\">\n",
       "  <thead>\n",
       "    <tr style=\"text-align: right;\">\n",
       "      <th></th>\n",
       "      <th>order_id</th>\n",
       "      <th>user_id</th>\n",
       "      <th>eval_set</th>\n",
       "      <th>order_number</th>\n",
       "      <th>orders_day_of_week</th>\n",
       "      <th>order_hour_of_day</th>\n",
       "      <th>days_since_prior_order</th>\n",
       "      <th>first_order</th>\n",
       "      <th>product_id</th>\n",
       "      <th>add_to_cart_order</th>\n",
       "      <th>...</th>\n",
       "      <th>STATE</th>\n",
       "      <th>Age</th>\n",
       "      <th>date_joined</th>\n",
       "      <th>n_dependants</th>\n",
       "      <th>fam_status</th>\n",
       "      <th>income</th>\n",
       "      <th>_merge</th>\n",
       "      <th>department</th>\n",
       "      <th>region</th>\n",
       "      <th>low_activity</th>\n",
       "    </tr>\n",
       "  </thead>\n",
       "  <tbody>\n",
       "    <tr>\n",
       "      <th>282</th>\n",
       "      <td>520620</td>\n",
       "      <td>120</td>\n",
       "      <td>prior</td>\n",
       "      <td>1</td>\n",
       "      <td>3</td>\n",
       "      <td>11</td>\n",
       "      <td>NaN</td>\n",
       "      <td>First Order</td>\n",
       "      <td>196</td>\n",
       "      <td>2</td>\n",
       "      <td>...</td>\n",
       "      <td>Kentucky</td>\n",
       "      <td>54</td>\n",
       "      <td>3/2/2017</td>\n",
       "      <td>2</td>\n",
       "      <td>married</td>\n",
       "      <td>99219</td>\n",
       "      <td>both</td>\n",
       "      <td>beverages</td>\n",
       "      <td>South</td>\n",
       "      <td>Low Activity</td>\n",
       "    </tr>\n",
       "    <tr>\n",
       "      <th>283</th>\n",
       "      <td>3273029</td>\n",
       "      <td>120</td>\n",
       "      <td>prior</td>\n",
       "      <td>3</td>\n",
       "      <td>2</td>\n",
       "      <td>8</td>\n",
       "      <td>19.0</td>\n",
       "      <td>Repeat Customer</td>\n",
       "      <td>196</td>\n",
       "      <td>2</td>\n",
       "      <td>...</td>\n",
       "      <td>Kentucky</td>\n",
       "      <td>54</td>\n",
       "      <td>3/2/2017</td>\n",
       "      <td>2</td>\n",
       "      <td>married</td>\n",
       "      <td>99219</td>\n",
       "      <td>both</td>\n",
       "      <td>beverages</td>\n",
       "      <td>South</td>\n",
       "      <td>Low Activity</td>\n",
       "    </tr>\n",
       "    <tr>\n",
       "      <th>284</th>\n",
       "      <td>520620</td>\n",
       "      <td>120</td>\n",
       "      <td>prior</td>\n",
       "      <td>1</td>\n",
       "      <td>3</td>\n",
       "      <td>11</td>\n",
       "      <td>NaN</td>\n",
       "      <td>First Order</td>\n",
       "      <td>46149</td>\n",
       "      <td>1</td>\n",
       "      <td>...</td>\n",
       "      <td>Kentucky</td>\n",
       "      <td>54</td>\n",
       "      <td>3/2/2017</td>\n",
       "      <td>2</td>\n",
       "      <td>married</td>\n",
       "      <td>99219</td>\n",
       "      <td>both</td>\n",
       "      <td>beverages</td>\n",
       "      <td>South</td>\n",
       "      <td>Low Activity</td>\n",
       "    </tr>\n",
       "    <tr>\n",
       "      <th>285</th>\n",
       "      <td>3273029</td>\n",
       "      <td>120</td>\n",
       "      <td>prior</td>\n",
       "      <td>3</td>\n",
       "      <td>2</td>\n",
       "      <td>8</td>\n",
       "      <td>19.0</td>\n",
       "      <td>Repeat Customer</td>\n",
       "      <td>46149</td>\n",
       "      <td>1</td>\n",
       "      <td>...</td>\n",
       "      <td>Kentucky</td>\n",
       "      <td>54</td>\n",
       "      <td>3/2/2017</td>\n",
       "      <td>2</td>\n",
       "      <td>married</td>\n",
       "      <td>99219</td>\n",
       "      <td>both</td>\n",
       "      <td>beverages</td>\n",
       "      <td>South</td>\n",
       "      <td>Low Activity</td>\n",
       "    </tr>\n",
       "    <tr>\n",
       "      <th>286</th>\n",
       "      <td>906054</td>\n",
       "      <td>120</td>\n",
       "      <td>prior</td>\n",
       "      <td>2</td>\n",
       "      <td>4</td>\n",
       "      <td>7</td>\n",
       "      <td>15.0</td>\n",
       "      <td>Repeat Customer</td>\n",
       "      <td>31102</td>\n",
       "      <td>1</td>\n",
       "      <td>...</td>\n",
       "      <td>Kentucky</td>\n",
       "      <td>54</td>\n",
       "      <td>3/2/2017</td>\n",
       "      <td>2</td>\n",
       "      <td>married</td>\n",
       "      <td>99219</td>\n",
       "      <td>both</td>\n",
       "      <td>beverages</td>\n",
       "      <td>South</td>\n",
       "      <td>Low Activity</td>\n",
       "    </tr>\n",
       "  </tbody>\n",
       "</table>\n",
       "<p>5 rows × 35 columns</p>\n",
       "</div>"
      ],
      "text/plain": [
       "     order_id  user_id eval_set  order_number  orders_day_of_week  \\\n",
       "282    520620      120    prior             1                   3   \n",
       "283   3273029      120    prior             3                   2   \n",
       "284    520620      120    prior             1                   3   \n",
       "285   3273029      120    prior             3                   2   \n",
       "286    906054      120    prior             2                   4   \n",
       "\n",
       "     order_hour_of_day  days_since_prior_order      first_order  product_id  \\\n",
       "282                 11                     NaN      First Order         196   \n",
       "283                  8                    19.0  Repeat Customer         196   \n",
       "284                 11                     NaN      First Order       46149   \n",
       "285                  8                    19.0  Repeat Customer       46149   \n",
       "286                  7                    15.0  Repeat Customer       31102   \n",
       "\n",
       "     add_to_cart_order  ...     STATE Age  date_joined n_dependants  \\\n",
       "282                  2  ...  Kentucky  54     3/2/2017            2   \n",
       "283                  2  ...  Kentucky  54     3/2/2017            2   \n",
       "284                  1  ...  Kentucky  54     3/2/2017            2   \n",
       "285                  1  ...  Kentucky  54     3/2/2017            2   \n",
       "286                  1  ...  Kentucky  54     3/2/2017            2   \n",
       "\n",
       "     fam_status income _merge department  region  low_activity  \n",
       "282     married  99219   both  beverages   South  Low Activity  \n",
       "283     married  99219   both  beverages   South  Low Activity  \n",
       "284     married  99219   both  beverages   South  Low Activity  \n",
       "285     married  99219   both  beverages   South  Low Activity  \n",
       "286     married  99219   both  beverages   South  Low Activity  \n",
       "\n",
       "[5 rows x 35 columns]"
      ]
     },
     "execution_count": 32,
     "metadata": {},
     "output_type": "execute_result"
    }
   ],
   "source": [
    "la_ords_prods_custs.head()"
   ]
  },
  {
   "cell_type": "code",
   "execution_count": 33,
   "id": "439fecf1",
   "metadata": {},
   "outputs": [],
   "source": [
    "#exporting low activity customers so that the marketting/sales team can review the cx base ()\n",
    "la_ords_prods_custs.to_csv(os.path.join(path,'Prepared Data','la_ords_prods_custs.csv'))"
   ]
  },
  {
   "cell_type": "code",
   "execution_count": 34,
   "id": "745b62c6",
   "metadata": {},
   "outputs": [],
   "source": [
    "ha_ords_prods_custs = ords_prods_custs[ords_prods_custs['low_activity']=='nan']"
   ]
  },
  {
   "cell_type": "code",
   "execution_count": 35,
   "id": "89116818",
   "metadata": {
    "scrolled": true
   },
   "outputs": [
    {
     "data": {
      "text/plain": [
       "(30964564, 35)"
      ]
     },
     "execution_count": 35,
     "metadata": {},
     "output_type": "execute_result"
    }
   ],
   "source": [
    "ha_ords_prods_custs.shape"
   ]
  },
  {
   "cell_type": "code",
   "execution_count": 37,
   "id": "a43d0075",
   "metadata": {},
   "outputs": [],
   "source": [
    "#exporting high_activity customers so that work can be continued in the subsequent script\n",
    "ha_ords_prods_custs.to_pickle(os.path.join(path,'Prepared Data','ha_ords_prods_custs.pkl'))"
   ]
  },
  {
   "cell_type": "markdown",
   "id": "aba52d9d",
   "metadata": {},
   "source": [
    "#### Data of new 'high_activity' (ha) dataframe matches the size of the value_counts output that was calculated above.\n",
    "#### From now on, we'll be using the high_activity subset as the main file as the CFO indicated that they aren't interested in low-activity customers and want them excluded.\n",
    "#### Continued in Part 1.2"
   ]
  }
 ],
 "metadata": {
  "kernelspec": {
   "display_name": "Python 3 (ipykernel)",
   "language": "python",
   "name": "python3"
  },
  "language_info": {
   "codemirror_mode": {
    "name": "ipython",
    "version": 3
   },
   "file_extension": ".py",
   "mimetype": "text/x-python",
   "name": "python",
   "nbconvert_exporter": "python",
   "pygments_lexer": "ipython3",
   "version": "3.11.5"
  }
 },
 "nbformat": 4,
 "nbformat_minor": 5
}

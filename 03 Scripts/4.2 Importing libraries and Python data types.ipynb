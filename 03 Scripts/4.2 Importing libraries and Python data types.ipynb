{
 "cells": [
  {
   "cell_type": "markdown",
   "id": "8fd39c09",
   "metadata": {},
   "source": [
    "#01.Importing libraries"
   ]
  },
  {
   "cell_type": "code",
   "execution_count": 1,
   "id": "f2c6775f",
   "metadata": {},
   "outputs": [],
   "source": [
    "# Import libraries\n",
    "import pandas as pd\n",
    "import numpy as np\n",
    "import os"
   ]
  },
  {
   "cell_type": "markdown",
   "id": "33ec8602",
   "metadata": {},
   "source": [
    "#02.Data types"
   ]
  },
  {
   "cell_type": "markdown",
   "id": "0e12cfd8",
   "metadata": {},
   "source": [
    "#4.2 Question 7"
   ]
  },
  {
   "cell_type": "code",
   "execution_count": 1,
   "id": "7b5745d5",
   "metadata": {},
   "outputs": [
    {
     "data": {
      "text/plain": [
       "100"
      ]
     },
     "execution_count": 1,
     "metadata": {},
     "output_type": "execute_result"
    }
   ],
   "source": [
    "10*10"
   ]
  },
  {
   "cell_type": "code",
   "execution_count": 2,
   "id": "3b560746",
   "metadata": {},
   "outputs": [
    {
     "data": {
      "text/plain": [
       "100.0"
      ]
     },
     "execution_count": 2,
     "metadata": {},
     "output_type": "execute_result"
    }
   ],
   "source": [
    "1000/10"
   ]
  },
  {
   "cell_type": "code",
   "execution_count": 3,
   "id": "f6a4b2c6",
   "metadata": {},
   "outputs": [
    {
     "data": {
      "text/plain": [
       "100"
      ]
     },
     "execution_count": 3,
     "metadata": {},
     "output_type": "execute_result"
    }
   ],
   "source": [
    "125-25"
   ]
  },
  {
   "cell_type": "code",
   "execution_count": 4,
   "id": "3ff0a058",
   "metadata": {},
   "outputs": [
    {
     "data": {
      "text/plain": [
       "100"
      ]
     },
     "execution_count": 4,
     "metadata": {},
     "output_type": "execute_result"
    }
   ],
   "source": [
    "75+25"
   ]
  },
  {
   "cell_type": "markdown",
   "id": "e5b07cf0",
   "metadata": {},
   "source": [
    "#4.2 Question 8"
   ]
  },
  {
   "cell_type": "code",
   "execution_count": 6,
   "id": "afe7219c",
   "metadata": {},
   "outputs": [],
   "source": [
    "x=12.39"
   ]
  },
  {
   "cell_type": "code",
   "execution_count": 7,
   "id": "ed3aefe1",
   "metadata": {},
   "outputs": [],
   "source": [
    "y=2.5"
   ]
  },
  {
   "cell_type": "code",
   "execution_count": 8,
   "id": "c340b59d",
   "metadata": {},
   "outputs": [
    {
     "data": {
      "text/plain": [
       "4.956"
      ]
     },
     "execution_count": 8,
     "metadata": {},
     "output_type": "execute_result"
    }
   ],
   "source": [
    "x/y"
   ]
  },
  {
   "cell_type": "markdown",
   "id": "3129ccad",
   "metadata": {},
   "source": [
    "#4.2 Question 9"
   ]
  },
  {
   "cell_type": "code",
   "execution_count": 9,
   "id": "76b26797",
   "metadata": {},
   "outputs": [],
   "source": [
    "a='Im'"
   ]
  },
  {
   "cell_type": "code",
   "execution_count": 10,
   "id": "cafb2385",
   "metadata": {},
   "outputs": [],
   "source": [
    "b='looking'"
   ]
  },
  {
   "cell_type": "code",
   "execution_count": 11,
   "id": "a570220a",
   "metadata": {},
   "outputs": [],
   "source": [
    "c='forward'"
   ]
  },
  {
   "cell_type": "code",
   "execution_count": 13,
   "id": "12023f25",
   "metadata": {},
   "outputs": [],
   "source": [
    "d='to'"
   ]
  },
  {
   "cell_type": "code",
   "execution_count": 14,
   "id": "83003652",
   "metadata": {},
   "outputs": [],
   "source": [
    "e='learning'"
   ]
  },
  {
   "cell_type": "code",
   "execution_count": 15,
   "id": "5e5b79e2",
   "metadata": {},
   "outputs": [],
   "source": [
    "f='python'"
   ]
  },
  {
   "cell_type": "code",
   "execution_count": 16,
   "id": "b8d104b4",
   "metadata": {},
   "outputs": [],
   "source": [
    "g=' '"
   ]
  },
  {
   "cell_type": "code",
   "execution_count": 17,
   "id": "20e997b2",
   "metadata": {},
   "outputs": [
    {
     "data": {
      "text/plain": [
       "'Im looking forward to learning python'"
      ]
     },
     "execution_count": 17,
     "metadata": {},
     "output_type": "execute_result"
    }
   ],
   "source": [
    "a+g+b+g+c+g+d+g+e+g+f"
   ]
  },
  {
   "cell_type": "code",
   "execution_count": 18,
   "id": "54192a5b",
   "metadata": {},
   "outputs": [],
   "source": [
    "h='hopefully'"
   ]
  },
  {
   "cell_type": "code",
   "execution_count": 19,
   "id": "9207fc06",
   "metadata": {},
   "outputs": [],
   "source": [
    "i='its'"
   ]
  },
  {
   "cell_type": "code",
   "execution_count": 20,
   "id": "1dad48e5",
   "metadata": {},
   "outputs": [],
   "source": [
    "j='not'"
   ]
  },
  {
   "cell_type": "code",
   "execution_count": 21,
   "id": "80fcb3d8",
   "metadata": {},
   "outputs": [],
   "source": [
    "k='too'"
   ]
  },
  {
   "cell_type": "code",
   "execution_count": 22,
   "id": "8b505505",
   "metadata": {},
   "outputs": [],
   "source": [
    "l='tricky'"
   ]
  },
  {
   "cell_type": "code",
   "execution_count": 23,
   "id": "62629549",
   "metadata": {},
   "outputs": [
    {
     "data": {
      "text/plain": [
       "'hopefully its not too tricky'"
      ]
     },
     "execution_count": 23,
     "metadata": {},
     "output_type": "execute_result"
    }
   ],
   "source": [
    "h+g+i+g+j+g+k+g+l"
   ]
  },
  {
   "cell_type": "markdown",
   "id": "f703bfd3",
   "metadata": {},
   "source": [
    "#4.2 Bonus Task"
   ]
  },
  {
   "cell_type": "code",
   "execution_count": 24,
   "id": "12716438",
   "metadata": {},
   "outputs": [
    {
     "data": {
      "text/plain": [
       "'pythonpythonpythonpythonpythonpythonpythonpythonpythonpythonpythonpythonpythonpythonpythonpythonpythonpythonpythonpythonpythonpythonpythonpythonpythonpythonpythonpythonpythonpythonpythonpythonpythonpythonpythonpythonpythonpythonpythonpythonpythonpythonpythonpythonpythonpythonpythonpythonpythonpythonpythonpythonpythonpythonpythonpythonpythonpythonpythonpythonpythonpythonpythonpythonpythonpythonpythonpythonpythonpythonpythonpythonpythonpythonpythonpythonpythonpythonpythonpythonpythonpythonpythonpythonpythonpythonpythonpythonpythonpythonpythonpythonpythonpythonpythonpythonpythonpythonpythonpython'"
      ]
     },
     "execution_count": 24,
     "metadata": {},
     "output_type": "execute_result"
    }
   ],
   "source": [
    "f*100"
   ]
  }
 ],
 "metadata": {
  "kernelspec": {
   "display_name": "Python 3 (ipykernel)",
   "language": "python",
   "name": "python3"
  },
  "language_info": {
   "codemirror_mode": {
    "name": "ipython",
    "version": 3
   },
   "file_extension": ".py",
   "mimetype": "text/x-python",
   "name": "python",
   "nbconvert_exporter": "python",
   "pygments_lexer": "ipython3",
   "version": "3.11.5"
  }
 },
 "nbformat": 4,
 "nbformat_minor": 5
}
